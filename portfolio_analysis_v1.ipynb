{
  "nbformat": 4,
  "nbformat_minor": 0,
  "metadata": {
    "colab": {
      "provenance": []
    },
    "kernelspec": {
      "name": "python3",
      "display_name": "Python 3"
    },
    "language_info": {
      "name": "python"
    }
  },
  "cells": [
    {
      "cell_type": "code",
      "source": [
        "!pip install yfinance\n",
        "\n",
        "import yfinance as yf\n",
        "import pandas as pd\n",
        "import numpy as np\n",
        "import matplotlib.pyplot as plt"
      ],
      "metadata": {
        "id": "DzGyt1EQiuCT"
      },
      "execution_count": null,
      "outputs": []
    },
    {
      "cell_type": "code",
      "source": [
        "tickers = {\n",
        "    'HDFCBANK.NS': 'HDFC Bank',\n",
        "    'ICICIBANK.NS': 'ICICI Bank',\n",
        "    'INFY.NS': 'Infosys',\n",
        "    'TCS.NS': 'TCS',\n",
        "    'HINDUNILVR.NS': 'HUL',\n",
        "    'ITC.NS': 'ITC',\n",
        "    'TATAMOTORS.NS': 'Tata Motors',\n",
        "    'MARUTI.NS': 'Maruti',\n",
        "    'SUNPHARMA.NS': 'Sun Pharma',\n",
        "    'CIPLA.NS': 'Cipla',\n",
        "    'LT.NS': 'L&T',\n",
        "    'RELIANCE.NS': 'Reliance',\n",
        "    'NTPC.NS': 'NTPC',\n",
        "    'TITAN.NS': 'Titan',\n",
        "    'INDIGO.NS': 'IndiGo'\n",
        "}\n",
        "\n",
        "# Benchmarking NIFTY 50\n",
        "benchmark = '^NSEI'\n",
        "\n",
        "# Date range is from Jan 1st, 2024 to present\n",
        "start_date = '2024-01-01'\n",
        "end_date = pd.to_datetime('today').strftime('%Y-%m-%d')\n",
        "\n",
        "data = yf.download(list(tickers.keys()) + [benchmark], start=start_date, end=end_date)['Close']"
      ],
      "metadata": {
        "id": "DvwmCYZRiuH0"
      },
      "execution_count": null,
      "outputs": []
    },
    {
      "cell_type": "code",
      "source": [
        "# Renaming columns to company names\n",
        "data = data.rename(columns=tickers)\n",
        "data.columns = [col if col in tickers.values() else 'NIFTY 50' for col in data.columns]\n",
        "\n",
        "# Drop rows with any missing values\n",
        "data.dropna(inplace=True)\n",
        "\n",
        "data.head()"
      ],
      "metadata": {
        "id": "WBD7S7KaiuLQ"
      },
      "execution_count": null,
      "outputs": []
    },
    {
      "cell_type": "code",
      "source": [
        "# Calculate daily percentage returns\n",
        "returns = data.pct_change().dropna()\n",
        "\n",
        "# Equal-weighted portfolio return\n",
        "weights = np.array([1/len(tickers)] * len(tickers))\n",
        "portfolio_returns = returns.iloc[:, :-1].dot(weights)  # exclude NIFTY 50\n",
        "\n",
        "# Combining into one DataFrame\n",
        "returns['Portfolio'] = portfolio_returns\n",
        "returns['NIFTY 50'] = returns['NIFTY 50']\n",
        "\n",
        "returns.head()"
      ],
      "metadata": {
        "id": "i2Ru8TF6iuPT"
      },
      "execution_count": null,
      "outputs": []
    },
    {
      "cell_type": "code",
      "source": [
        "# Cumulative return (starting from 100)\n",
        "cumulative = (1 + returns[['Portfolio', 'NIFTY 50']]).cumprod() * 100\n",
        "\n",
        "cumulative.plot(figsize=(12,6), title='Portfolio vs NIFTY 50 – Cumulative Returns')\n",
        "plt.ylabel('Value (Indexed to 100)')\n",
        "plt.grid(True)\n",
        "plt.show()"
      ],
      "metadata": {
        "id": "JFSN0C-SiuSq"
      },
      "execution_count": null,
      "outputs": []
    },
    {
      "cell_type": "code",
      "source": [
        "# Volatility (standard deviation of returns)\n",
        "volatility = returns.std() * 100\n",
        "\n",
        "# Max drawdown calculation\n",
        "rolling_max = cumulative.cummax()\n",
        "drawdown = cumulative / rolling_max - 1\n",
        "max_drawdown = drawdown.min() * 100\n",
        "\n",
        "# Summary\n",
        "print(\"Volatility (%):\")\n",
        "print(volatility.round(2))\n",
        "\n",
        "print(\"\\nMax Drawdown (%):\")\n",
        "print(max_drawdown.round(2))"
      ],
      "metadata": {
        "id": "m4140PeFk9Wo"
      },
      "execution_count": null,
      "outputs": []
    },
    {
      "cell_type": "code",
      "source": [
        "# Export daily returns & drawdown to CSV\n",
        "returns.to_csv(\"daily_returns.csv\")\n",
        "drawdown.to_csv(\"drawdown.csv\")\n",
        "cumulative.to_csv(\"cumulative_returns.csv\")"
      ],
      "metadata": {
        "id": "mZKe2OtFk9jH"
      },
      "execution_count": null,
      "outputs": []
    }
  ]
}